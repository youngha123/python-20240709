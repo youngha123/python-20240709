{
 "cells": [
  {
   "cell_type": "markdown",
   "metadata": {},
   "source": [
    "### 조건문\n",
    "##### if 문\n",
    "``` python\n",
    "if 조건 논리표현식:\n",
    "    조건이 참일때 실행할 구문\n",
    "``` "
   ]
  },
  {
   "cell_type": "code",
   "execution_count": 4,
   "metadata": {},
   "outputs": [],
   "source": [
    "number = 1235"
   ]
  },
  {
   "cell_type": "code",
   "execution_count": 5,
   "metadata": {},
   "outputs": [],
   "source": [
    "if (number % 2 == 0):\n",
    "    print('짝수')\n",
    "    # 같은 코드 영역으로 지정하고자 한다면 들여쓰기를 모두 동일하게 지정\n",
    "    print('종료')"
   ]
  },
  {
   "cell_type": "markdown",
   "metadata": {},
   "source": [
    "### else 문\n",
    "``` python\n",
    "if 조건 논리 표현식:\n",
    "    조건이 참일때 실행할 구문\n",
    "else:\n",
    "    조건이 거짓일때 실행할 구문\n",
    "```"
   ]
  },
  {
   "cell_type": "code",
   "execution_count": 6,
   "metadata": {},
   "outputs": [
    {
     "name": "stdout",
     "output_type": "stream",
     "text": [
      "홀수\n"
     ]
    }
   ],
   "source": [
    "if (number % 2 == 0):\n",
    "    print('짝수')\n",
    "# else를 작성할 때는 들여쓰기를 if문의 들여쓰기와 일치해야함\n",
    "else:\n",
    "    print('홀수')"
   ]
  },
  {
   "cell_type": "code",
   "execution_count": 7,
   "metadata": {},
   "outputs": [
    {
     "name": "stdout",
     "output_type": "stream",
     "text": [
      "2의 배수나 3의 배수가 아닙니다.\n"
     ]
    }
   ],
   "source": [
    "if (number % 3 == 0):\n",
    "    print('3의 배수입니다.')\n",
    "else: \n",
    "    if (number % 2 == 0):\n",
    "        print('2의 배수입니다.')\n",
    "    else:\n",
    "        print('2의 배수나 3의 배수가 아닙니다.')"
   ]
  },
  {
   "cell_type": "markdown",
   "metadata": {},
   "source": [
    "### elif 구문\n",
    "``` python\n",
    "if 첫번째 조건 논리 표현식:\n",
    "    첫번째 조건이 참일 때 실행할 구문\n",
    "elif 두번째 조건 논리 표현식:\n",
    "    두번째 조건이 참일 때 실행할 구문\n",
    "else:\n",
    "    위의 모든 조건이 거짓일 때 실행할 구문\n",
    "```"
   ]
  },
  {
   "cell_type": "code",
   "execution_count": 8,
   "metadata": {},
   "outputs": [
    {
     "name": "stdout",
     "output_type": "stream",
     "text": [
      "2의 배수 혹은 3의 배수가 아닙니다.\n"
     ]
    }
   ],
   "source": [
    "if (number % 3 == 0):\n",
    "    print('3의 배수입니다.')\n",
    "elif (number % 2 == 0):\n",
    "    print('2의 배수입니다.')\n",
    "else:\n",
    "    print('2의 배수 혹은 3의 배수가 아닙니다.')"
   ]
  },
  {
   "cell_type": "markdown",
   "metadata": {},
   "source": [
    "### 죄수의 딜레마\n",
    "용의자 두 명(A, B)이 체포됨,\n",
    "심문 중 자백 및 침묵을 권유받음\n",
    "\n",
    "1. 둘 중 하나만 자백을 하게되면 자백한 사람은 즉시 풀려나고 침묵한 사람은 10년형\n",
    "2. 둘 다 자백을 하면  모두 5년형\n",
    "3. 둘 다 침묵을 하면 모두 1년형 이때 죄수의 선택을 나태내는 변수 XA, XB와 죄수의 복역 연수를 나타내는 변수 YA, YB라 할때 XA와 XB를 입력을 받고 YA와 YB를 'A의 복역 연수: 10, B의 복역 연수: 0' 형태로 출력하시오.\n"
   ]
  },
  {
   "cell_type": "code",
   "execution_count": 11,
   "metadata": {},
   "outputs": [
    {
     "name": "stdout",
     "output_type": "stream",
     "text": [
      "A의 복역 연수 : 5, B의 복역 연수 : 5\n"
     ]
    }
   ],
   "source": [
    "# 자백 : True, 침묵 : false\n",
    "XA = bool(input('A의 선택은?'))\n",
    "XB = bool(input('B의 선택은?'))\n",
    "\n",
    "(YA, YB) = (0, 0)\n",
    "if (XA and XB):\n",
    "    YA = 5\n",
    "    YB = 5\n",
    "elif (XA and not XB):\n",
    "    YA = 0\n",
    "    YB = 10\n",
    "elif (not XA and XB):\n",
    "    YA = 10\n",
    "    YB = 0\n",
    "else:\n",
    "    YA = 1\n",
    "    YB = 1\n",
    "\n",
    "print(f'A의 복역 연수 : {YA}, B의 복역 연수 : {YB}')"
   ]
  },
  {
   "cell_type": "markdown",
   "metadata": {},
   "source": [
    "### 반복문\n",
    "```python\n",
    "for 변수 in range(반복횟수):\n",
    "    반복할 구문\n",
    "```\n",
    "- range(정수) : 0부터 매개변수로 전달할 정수-1 까지의 정수 리스트를 반환\n",
    "- range(시작정수, 종료정수) : 시작 정수부터 종료 정수-1 까지의 정수 리스트를 반환\n",
    "- range(시작정수, 종료정수, 차이정수) : 시작 정수부터 종료 정수-1 까지의 정수 리스트를 반환 차이가 차이 정수 만큼인 정수 리스트 반환"
   ]
  },
  {
   "cell_type": "code",
   "execution_count": 12,
   "metadata": {},
   "outputs": [
    {
     "data": {
      "text/plain": [
       "[0, 1, 2, 3, 4, 5, 6, 7, 8, 9]"
      ]
     },
     "execution_count": 12,
     "metadata": {},
     "output_type": "execute_result"
    }
   ],
   "source": [
    "list(range(10))"
   ]
  },
  {
   "cell_type": "code",
   "execution_count": 13,
   "metadata": {},
   "outputs": [
    {
     "data": {
      "text/plain": [
       "[5, 6, 7, 8, 9]"
      ]
     },
     "execution_count": 13,
     "metadata": {},
     "output_type": "execute_result"
    }
   ],
   "source": [
    "\n",
    "list(range(5, 10))"
   ]
  },
  {
   "cell_type": "code",
   "execution_count": 14,
   "metadata": {},
   "outputs": [
    {
     "data": {
      "text/plain": [
       "[5, 7, 9]"
      ]
     },
     "execution_count": 14,
     "metadata": {},
     "output_type": "execute_result"
    }
   ],
   "source": [
    "\n",
    "list(range(5, 10, 2))"
   ]
  },
  {
   "cell_type": "code",
   "execution_count": 15,
   "metadata": {},
   "outputs": [
    {
     "data": {
      "text/plain": [
       "[10, 9, 8, 7, 6, 5, 4, 3, 2]"
      ]
     },
     "execution_count": 15,
     "metadata": {},
     "output_type": "execute_result"
    }
   ],
   "source": [
    "\n",
    "list(range(10, 1, -1))"
   ]
  },
  {
   "cell_type": "code",
   "execution_count": 16,
   "metadata": {},
   "outputs": [
    {
     "name": "stdout",
     "output_type": "stream",
     "text": [
      "0\n",
      "1\n",
      "2\n",
      "3\n",
      "4\n",
      "5\n",
      "6\n",
      "7\n",
      "8\n",
      "9\n"
     ]
    }
   ],
   "source": [
    "for item in range(10):\n",
    "    print(item)"
   ]
  },
  {
   "cell_type": "code",
   "execution_count": 17,
   "metadata": {},
   "outputs": [
    {
     "name": "stdout",
     "output_type": "stream",
     "text": [
      "10\n",
      "9\n",
      "8\n",
      "7\n",
      "6\n",
      "5\n",
      "4\n",
      "3\n",
      "2\n",
      "1\n"
     ]
    }
   ],
   "source": [
    "for item in range(10, 0, -1):\n",
    "    print(item)"
   ]
  },
  {
   "cell_type": "code",
   "execution_count": 18,
   "metadata": {},
   "outputs": [
    {
     "name": "stdout",
     "output_type": "stream",
     "text": [
      "item1 : 0 / item2: 0\n",
      "item1 : 0 / item2: 1\n",
      "item1 : 0 / item2: 2\n",
      "item1 : 0 / item2: 3\n",
      "item1 : 0 / item2: 4\n",
      "item1 : 0 / item2: 5\n",
      "item1 : 0 / item2: 6\n",
      "item1 : 0 / item2: 7\n",
      "item1 : 0 / item2: 8\n",
      "item1 : 0 / item2: 9\n",
      "item1 : 1 / item2: 0\n",
      "item1 : 1 / item2: 1\n",
      "item1 : 1 / item2: 2\n",
      "item1 : 1 / item2: 3\n",
      "item1 : 1 / item2: 4\n",
      "item1 : 1 / item2: 5\n",
      "item1 : 1 / item2: 6\n",
      "item1 : 1 / item2: 7\n",
      "item1 : 1 / item2: 8\n",
      "item1 : 1 / item2: 9\n",
      "item1 : 2 / item2: 0\n",
      "item1 : 2 / item2: 1\n",
      "item1 : 2 / item2: 2\n",
      "item1 : 2 / item2: 3\n",
      "item1 : 2 / item2: 4\n",
      "item1 : 2 / item2: 5\n",
      "item1 : 2 / item2: 6\n",
      "item1 : 2 / item2: 7\n",
      "item1 : 2 / item2: 8\n",
      "item1 : 2 / item2: 9\n",
      "item1 : 3 / item2: 0\n",
      "item1 : 3 / item2: 1\n",
      "item1 : 3 / item2: 2\n",
      "item1 : 3 / item2: 3\n",
      "item1 : 3 / item2: 4\n",
      "item1 : 3 / item2: 5\n",
      "item1 : 3 / item2: 6\n",
      "item1 : 3 / item2: 7\n",
      "item1 : 3 / item2: 8\n",
      "item1 : 3 / item2: 9\n",
      "item1 : 4 / item2: 0\n",
      "item1 : 4 / item2: 1\n",
      "item1 : 4 / item2: 2\n",
      "item1 : 4 / item2: 3\n",
      "item1 : 4 / item2: 4\n",
      "item1 : 4 / item2: 5\n",
      "item1 : 4 / item2: 6\n",
      "item1 : 4 / item2: 7\n",
      "item1 : 4 / item2: 8\n",
      "item1 : 4 / item2: 9\n",
      "item1 : 5 / item2: 0\n",
      "item1 : 5 / item2: 1\n",
      "item1 : 5 / item2: 2\n",
      "item1 : 5 / item2: 3\n",
      "item1 : 5 / item2: 4\n",
      "item1 : 5 / item2: 5\n",
      "item1 : 5 / item2: 6\n",
      "item1 : 5 / item2: 7\n",
      "item1 : 5 / item2: 8\n",
      "item1 : 5 / item2: 9\n",
      "item1 : 6 / item2: 0\n",
      "item1 : 6 / item2: 1\n",
      "item1 : 6 / item2: 2\n",
      "item1 : 6 / item2: 3\n",
      "item1 : 6 / item2: 4\n",
      "item1 : 6 / item2: 5\n",
      "item1 : 6 / item2: 6\n",
      "item1 : 6 / item2: 7\n",
      "item1 : 6 / item2: 8\n",
      "item1 : 6 / item2: 9\n",
      "item1 : 7 / item2: 0\n",
      "item1 : 7 / item2: 1\n",
      "item1 : 7 / item2: 2\n",
      "item1 : 7 / item2: 3\n",
      "item1 : 7 / item2: 4\n",
      "item1 : 7 / item2: 5\n",
      "item1 : 7 / item2: 6\n",
      "item1 : 7 / item2: 7\n",
      "item1 : 7 / item2: 8\n",
      "item1 : 7 / item2: 9\n",
      "item1 : 8 / item2: 0\n",
      "item1 : 8 / item2: 1\n",
      "item1 : 8 / item2: 2\n",
      "item1 : 8 / item2: 3\n",
      "item1 : 8 / item2: 4\n",
      "item1 : 8 / item2: 5\n",
      "item1 : 8 / item2: 6\n",
      "item1 : 8 / item2: 7\n",
      "item1 : 8 / item2: 8\n",
      "item1 : 8 / item2: 9\n",
      "item1 : 9 / item2: 0\n",
      "item1 : 9 / item2: 1\n",
      "item1 : 9 / item2: 2\n",
      "item1 : 9 / item2: 3\n",
      "item1 : 9 / item2: 4\n",
      "item1 : 9 / item2: 5\n",
      "item1 : 9 / item2: 6\n",
      "item1 : 9 / item2: 7\n",
      "item1 : 9 / item2: 8\n",
      "item1 : 9 / item2: 9\n"
     ]
    }
   ],
   "source": [
    "for item1 in range(10):\n",
    "    for item2 in range(10):\n",
    "        print(f'item1 : {item1} / item2: {item2}')"
   ]
  },
  {
   "cell_type": "code",
   "execution_count": 19,
   "metadata": {},
   "outputs": [
    {
     "name": "stdout",
     "output_type": "stream",
     "text": [
      "*\n",
      "**\n",
      "***\n",
      "****\n",
      "*****\n",
      "******\n",
      "*******\n",
      "********\n",
      "*********\n",
      "**********\n",
      "*********\n",
      "********\n",
      "*******\n",
      "******\n",
      "*****\n",
      "****\n",
      "***\n",
      "**\n",
      "*\n"
     ]
    }
   ],
   "source": [
    "BASE_COUNT = 20\n",
    "START = 1\n",
    "CHARACTER = '*'\n",
    "\n",
    "for count in range(START, BASE_COUNT):\n",
    "    if(count <= (BASE_COUNT / 2)):\n",
    "        print(CHARACTER * count)\n",
    "    else:\n",
    "        print(CHARACTER * (BASE_COUNT - count))"
   ]
  }
 ],
 "metadata": {
  "kernelspec": {
   "display_name": "Python 3",
   "language": "python",
   "name": "python3"
  },
  "language_info": {
   "codemirror_mode": {
    "name": "ipython",
    "version": 3
   },
   "file_extension": ".py",
   "mimetype": "text/x-python",
   "name": "python",
   "nbconvert_exporter": "python",
   "pygments_lexer": "ipython3",
   "version": "3.12.4"
  }
 },
 "nbformat": 4,
 "nbformat_minor": 2
}
